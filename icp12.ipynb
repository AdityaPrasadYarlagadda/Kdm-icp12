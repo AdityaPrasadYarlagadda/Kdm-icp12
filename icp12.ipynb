{
  "nbformat": 4,
  "nbformat_minor": 0,
  "metadata": {
    "colab": {
      "name": "icp12.ipynb",
      "provenance": [],
      "authorship_tag": "ABX9TyPzYVYBoot5Q1g9kBI1reGL",
      "include_colab_link": true
    },
    "kernelspec": {
      "name": "python3",
      "display_name": "Python 3"
    },
    "language_info": {
      "name": "python"
    }
  },
  "cells": [
    {
      "cell_type": "markdown",
      "metadata": {
        "id": "view-in-github",
        "colab_type": "text"
      },
      "source": [
        "<a href=\"https://colab.research.google.com/github/AdityaPrasadYarlagadda/Kdm-icp12/blob/main/icp12.ipynb\" target=\"_parent\"><img src=\"https://colab.research.google.com/assets/colab-badge.svg\" alt=\"Open In Colab\"/></a>"
      ]
    },
    {
      "cell_type": "markdown",
      "metadata": {
        "id": "T08yY0netSmW"
      },
      "source": [
        "Importing all required libraries"
      ]
    },
    {
      "cell_type": "code",
      "metadata": {
        "id": "kGDa-5A3jrWY"
      },
      "source": [
        "import numpy as np\n",
        "import matplotlib.pyplot as plt\n",
        "import pandas as pd\n",
        "from keras.models import Sequential\n",
        "from keras.layers import Dense\n",
        "from keras.layers import LSTM\n",
        "from keras.layers import Dropout"
      ],
      "execution_count": 1,
      "outputs": []
    },
    {
      "cell_type": "markdown",
      "metadata": {
        "id": "AcDFCOGDtO07"
      },
      "source": [
        "Importing the data"
      ]
    },
    {
      "cell_type": "code",
      "metadata": {
        "id": "WhBHV1xaj2C7"
      },
      "source": [
        "apple_training_complete = pd.read_csv(r'/content/traindata.csv')"
      ],
      "execution_count": 19,
      "outputs": []
    },
    {
      "cell_type": "markdown",
      "metadata": {
        "id": "RtOhA0UmuSpk"
      },
      "source": [
        "As we deal with only opening price of the stock.we will filter all data from training set and have values only from open column"
      ]
    },
    {
      "cell_type": "code",
      "metadata": {
        "id": "H5zD8HM_j9UQ"
      },
      "source": [
        "apple_training_processed = apple_training_complete.iloc[:, 1:2].values"
      ],
      "execution_count": 20,
      "outputs": []
    },
    {
      "cell_type": "markdown",
      "metadata": {
        "id": "-BNt80Teu2AV"
      },
      "source": [
        "Data Normalization"
      ]
    },
    {
      "cell_type": "code",
      "metadata": {
        "id": "bRP5wAh3kEdK"
      },
      "source": [
        "from sklearn.preprocessing import MinMaxScaler\n",
        "scaler = MinMaxScaler(feature_range = (0, 1))\n",
        "\n",
        "apple_training_scaled = scaler.fit_transform(apple_training_processed)"
      ],
      "execution_count": 21,
      "outputs": []
    },
    {
      "cell_type": "markdown",
      "metadata": {
        "id": "HW37fb8AvSD8"
      },
      "source": [
        "Converting train data to right shape.\n",
        "In this predict the opening stock price of the data based on the opening stock prices for the past 30 days."
      ]
    },
    {
      "cell_type": "code",
      "metadata": {
        "id": "doPTel5EkF8X"
      },
      "source": [
        "features_set = []\n",
        "labels = []\n",
        "for i in range(30, 149):\n",
        "    features_set.append(apple_training_scaled[i-30:i, 0])\n",
        "    labels.append(apple_training_scaled[i, 0])"
      ],
      "execution_count": 22,
      "outputs": []
    },
    {
      "cell_type": "code",
      "metadata": {
        "id": "CUMtJVtNkcNI"
      },
      "source": [
        "features_set, labels = np.array(features_set), np.array(labels)"
      ],
      "execution_count": 23,
      "outputs": []
    },
    {
      "cell_type": "code",
      "metadata": {
        "id": "i8d7mDg3kdwz"
      },
      "source": [
        "features_set = np.reshape(features_set, (features_set.shape[0], features_set.shape[1], 1))"
      ],
      "execution_count": 24,
      "outputs": []
    },
    {
      "cell_type": "markdown",
      "metadata": {
        "id": "o19Xq2TLv55O"
      },
      "source": [
        "**Training the Lstm**\n",
        "\n",
        "In this step Lstm and dropout layers are created."
      ]
    },
    {
      "cell_type": "code",
      "metadata": {
        "id": "QqokEAQqkpU3"
      },
      "source": [
        "model = Sequential()\n",
        "model.add(LSTM(units=50, return_sequences=True, input_shape=(features_set.shape[1], 1)))\n",
        "model.add(Dropout(0.2))\n",
        "model.add(LSTM(units=50, return_sequences=True))\n",
        "model.add(Dropout(0.2))\n",
        "\n",
        "model.add(LSTM(units=50, return_sequences=True))\n",
        "model.add(Dropout(0.2))\n",
        "\n",
        "model.add(LSTM(units=50))\n",
        "model.add(Dropout(0.2))\n",
        "model.add(Dense(units = 1))"
      ],
      "execution_count": 25,
      "outputs": []
    },
    {
      "cell_type": "markdown",
      "metadata": {
        "id": "56fQnwc3wZ-t"
      },
      "source": [
        "We compile the model now"
      ]
    },
    {
      "cell_type": "code",
      "metadata": {
        "id": "bbBV9-fUk90l"
      },
      "source": [
        "model.compile(optimizer = 'adam', loss = 'mean_squared_error')"
      ],
      "execution_count": 26,
      "outputs": []
    },
    {
      "cell_type": "markdown",
      "metadata": {
        "id": "me7fEz5DwbtD"
      },
      "source": [
        "Now we'll fit the model and let it train"
      ]
    },
    {
      "cell_type": "code",
      "metadata": {
        "colab": {
          "base_uri": "https://localhost:8080/"
        },
        "id": "KTIsgKydlB_V",
        "outputId": "80f27815-0b99-4a80-d27a-c66f1a83ade2"
      },
      "source": [
        "model.fit(features_set, labels, epochs = 50, batch_size = 32)"
      ],
      "execution_count": 27,
      "outputs": [
        {
          "output_type": "stream",
          "text": [
            "Epoch 1/50\n",
            "4/4 [==============================] - 6s 63ms/step - loss: 0.2763\n",
            "Epoch 2/50\n",
            "4/4 [==============================] - 0s 58ms/step - loss: 0.0438\n",
            "Epoch 3/50\n",
            "4/4 [==============================] - 0s 60ms/step - loss: 0.0315\n",
            "Epoch 4/50\n",
            "4/4 [==============================] - 0s 62ms/step - loss: 0.0327\n",
            "Epoch 5/50\n",
            "4/4 [==============================] - 0s 61ms/step - loss: 0.0207\n",
            "Epoch 6/50\n",
            "4/4 [==============================] - 0s 57ms/step - loss: 0.0155\n",
            "Epoch 7/50\n",
            "4/4 [==============================] - 0s 62ms/step - loss: 0.0208\n",
            "Epoch 8/50\n",
            "4/4 [==============================] - 0s 59ms/step - loss: 0.0182\n",
            "Epoch 9/50\n",
            "4/4 [==============================] - 0s 58ms/step - loss: 0.0171\n",
            "Epoch 10/50\n",
            "4/4 [==============================] - 0s 60ms/step - loss: 0.0136\n",
            "Epoch 11/50\n",
            "4/4 [==============================] - 0s 60ms/step - loss: 0.0142\n",
            "Epoch 12/50\n",
            "4/4 [==============================] - 0s 63ms/step - loss: 0.0124\n",
            "Epoch 13/50\n",
            "4/4 [==============================] - 0s 58ms/step - loss: 0.0150\n",
            "Epoch 14/50\n",
            "4/4 [==============================] - 0s 59ms/step - loss: 0.0125\n",
            "Epoch 15/50\n",
            "4/4 [==============================] - 0s 59ms/step - loss: 0.0119\n",
            "Epoch 16/50\n",
            "4/4 [==============================] - 0s 59ms/step - loss: 0.0157\n",
            "Epoch 17/50\n",
            "4/4 [==============================] - 0s 66ms/step - loss: 0.0140\n",
            "Epoch 18/50\n",
            "4/4 [==============================] - 0s 60ms/step - loss: 0.0132\n",
            "Epoch 19/50\n",
            "4/4 [==============================] - 0s 63ms/step - loss: 0.0127\n",
            "Epoch 20/50\n",
            "4/4 [==============================] - 0s 60ms/step - loss: 0.0131\n",
            "Epoch 21/50\n",
            "4/4 [==============================] - 0s 62ms/step - loss: 0.0117\n",
            "Epoch 22/50\n",
            "4/4 [==============================] - 0s 61ms/step - loss: 0.0139\n",
            "Epoch 23/50\n",
            "4/4 [==============================] - 0s 62ms/step - loss: 0.0132\n",
            "Epoch 24/50\n",
            "4/4 [==============================] - 0s 57ms/step - loss: 0.0148\n",
            "Epoch 25/50\n",
            "4/4 [==============================] - 0s 59ms/step - loss: 0.0138\n",
            "Epoch 26/50\n",
            "4/4 [==============================] - 0s 60ms/step - loss: 0.0150\n",
            "Epoch 27/50\n",
            "4/4 [==============================] - 0s 62ms/step - loss: 0.0145\n",
            "Epoch 28/50\n",
            "4/4 [==============================] - 0s 61ms/step - loss: 0.0124\n",
            "Epoch 29/50\n",
            "4/4 [==============================] - 0s 68ms/step - loss: 0.0112\n",
            "Epoch 30/50\n",
            "4/4 [==============================] - 0s 59ms/step - loss: 0.0150\n",
            "Epoch 31/50\n",
            "4/4 [==============================] - 0s 60ms/step - loss: 0.0107\n",
            "Epoch 32/50\n",
            "4/4 [==============================] - 0s 62ms/step - loss: 0.0127\n",
            "Epoch 33/50\n",
            "4/4 [==============================] - 0s 62ms/step - loss: 0.0123\n",
            "Epoch 34/50\n",
            "4/4 [==============================] - 0s 61ms/step - loss: 0.0119\n",
            "Epoch 35/50\n",
            "4/4 [==============================] - 0s 63ms/step - loss: 0.0126\n",
            "Epoch 36/50\n",
            "4/4 [==============================] - 0s 60ms/step - loss: 0.0114\n",
            "Epoch 37/50\n",
            "4/4 [==============================] - 0s 62ms/step - loss: 0.0136\n",
            "Epoch 38/50\n",
            "4/4 [==============================] - 0s 58ms/step - loss: 0.0127\n",
            "Epoch 39/50\n",
            "4/4 [==============================] - 0s 60ms/step - loss: 0.0119\n",
            "Epoch 40/50\n",
            "4/4 [==============================] - 0s 61ms/step - loss: 0.0116\n",
            "Epoch 41/50\n",
            "4/4 [==============================] - 0s 64ms/step - loss: 0.0092\n",
            "Epoch 42/50\n",
            "4/4 [==============================] - 0s 63ms/step - loss: 0.0109\n",
            "Epoch 43/50\n",
            "4/4 [==============================] - 0s 62ms/step - loss: 0.0102\n",
            "Epoch 44/50\n",
            "4/4 [==============================] - 0s 60ms/step - loss: 0.0105\n",
            "Epoch 45/50\n",
            "4/4 [==============================] - 0s 63ms/step - loss: 0.0110\n",
            "Epoch 46/50\n",
            "4/4 [==============================] - 0s 60ms/step - loss: 0.0117\n",
            "Epoch 47/50\n",
            "4/4 [==============================] - 0s 58ms/step - loss: 0.0092\n",
            "Epoch 48/50\n",
            "4/4 [==============================] - 0s 58ms/step - loss: 0.0127\n",
            "Epoch 49/50\n",
            "4/4 [==============================] - 0s 64ms/step - loss: 0.0105\n",
            "Epoch 50/50\n",
            "4/4 [==============================] - 0s 61ms/step - loss: 0.0090\n"
          ],
          "name": "stdout"
        },
        {
          "output_type": "execute_result",
          "data": {
            "text/plain": [
              "<tensorflow.python.keras.callbacks.History at 0x7f20ca194c90>"
            ]
          },
          "metadata": {
            "tags": []
          },
          "execution_count": 27
        }
      ]
    },
    {
      "cell_type": "markdown",
      "metadata": {
        "id": "UibYjWxbwjMR"
      },
      "source": [
        "Importing test data"
      ]
    },
    {
      "cell_type": "code",
      "metadata": {
        "id": "SKF0DwHglIFB"
      },
      "source": [
        "apple_testing_complete = pd.read_csv(r'/content/testdata.csv')\n",
        "apple_testing_processed = apple_testing_complete.iloc[:, 1:2].values"
      ],
      "execution_count": 28,
      "outputs": []
    },
    {
      "cell_type": "markdown",
      "metadata": {
        "id": "LyO4bbQLwpGE"
      },
      "source": [
        "Concatinating the train and test data"
      ]
    },
    {
      "cell_type": "code",
      "metadata": {
        "id": "16A8DICrlOWM"
      },
      "source": [
        "apple_total = pd.concat((apple_training_complete['Open'], apple_testing_complete['Open']), axis=0)"
      ],
      "execution_count": 29,
      "outputs": []
    },
    {
      "cell_type": "markdown",
      "metadata": {
        "id": "-FeC4g7LxNaV"
      },
      "source": [
        "The input for each day should contain the opening stock prices for the previous 30 days. That means we need opening stock prices for the 20 test days and the 30 stock prices from the last 30 days for the training set."
      ]
    },
    {
      "cell_type": "code",
      "metadata": {
        "id": "Eb9brE3IlThg"
      },
      "source": [
        "test_inputs = apple_total[len(apple_total) - len(apple_testing_complete) - 30:].values"
      ],
      "execution_count": 30,
      "outputs": []
    },
    {
      "cell_type": "code",
      "metadata": {
        "id": "mmxkxABtlYpC"
      },
      "source": [
        "test_inputs = test_inputs.reshape(-1,1)\n",
        "test_inputs = scaler.transform(test_inputs)"
      ],
      "execution_count": 31,
      "outputs": []
    },
    {
      "cell_type": "markdown",
      "metadata": {
        "id": "heCw9b-ayAIM"
      },
      "source": [
        "let's prepare our final test input set that will contain previous 30 stock prices"
      ]
    },
    {
      "cell_type": "code",
      "metadata": {
        "id": "v0dZrFl-lcu5"
      },
      "source": [
        "test_features = []\n",
        "for i in range(30, 50):\n",
        "    test_features.append(test_inputs[i-30:i, 0])"
      ],
      "execution_count": 32,
      "outputs": []
    },
    {
      "cell_type": "markdown",
      "metadata": {
        "id": "5DV6tFacyISW"
      },
      "source": [
        "Finally, we need to convert our data into the three-dimensional format which can be used as input to the LSTM. "
      ]
    },
    {
      "cell_type": "code",
      "metadata": {
        "id": "8109vlRSlgRl"
      },
      "source": [
        "test_features = np.array(test_features)\n",
        "test_features = np.reshape(test_features, (test_features.shape[0], test_features.shape[1], 1))"
      ],
      "execution_count": 33,
      "outputs": []
    },
    {
      "cell_type": "markdown",
      "metadata": {
        "id": "QAa4ut18yU6u"
      },
      "source": [
        "Making Predictions"
      ]
    },
    {
      "cell_type": "code",
      "metadata": {
        "id": "Aj9BhxralkP8"
      },
      "source": [
        "predictions = model.predict(test_features)\n",
        "predictions = scaler.inverse_transform(predictions)"
      ],
      "execution_count": 34,
      "outputs": []
    },
    {
      "cell_type": "code",
      "metadata": {
        "colab": {
          "base_uri": "https://localhost:8080/",
          "height": 404
        },
        "id": "QDnHaB16lrJj",
        "outputId": "7b6c091b-dd81-482e-aba6-7a4b216b21b9"
      },
      "source": [
        "plt.figure(figsize=(10,6))\n",
        "plt.plot(apple_testing_processed, color='blue', label='Actual Apple Stock Price')\n",
        "plt.plot(predictions , color='red', label='Predicted Apple Stock Price')\n",
        "plt.title('Apple Stock Price Prediction')\n",
        "plt.xlabel('Date')\n",
        "plt.ylabel('Apple Stock Price')\n",
        "plt.legend()\n",
        "plt.show()"
      ],
      "execution_count": 35,
      "outputs": [
        {
          "output_type": "display_data",
          "data": {
            "image/png": "[encoded data removed]",
            "text/plain": [
              "<Figure size 720x432 with 1 Axes>"
            ]
          },
          "metadata": {
            "tags": [],
            "needs_background": "light"
          }
        }
      ]
    }
  ]
}