{
  "nbformat": 4,
  "nbformat_minor": 0,
  "metadata": {
    "colab": {
      "name": "icp12.ipynb",
      "provenance": [],
      "authorship_tag": "ABX9TyP7hCV5UU8KyaHIVdsJhTlc",
      "include_colab_link": true
    },
    "kernelspec": {
      "name": "python3",
      "display_name": "Python 3"
    },
    "language_info": {
      "name": "python"
    }
  },
  "cells": [
    {
      "cell_type": "markdown",
      "metadata": {
        "id": "view-in-github",
        "colab_type": "text"
      },
      "source": [
        "<a href=\"https://colab.research.google.com/github/AdityaPrasadYarlagadda/Kdm-icp12/blob/main/icp12.ipynb\" target=\"_parent\"><img src=\"https://colab.research.google.com/assets/colab-badge.svg\" alt=\"Open In Colab\"/></a>"
      ]
    },
    {
      "cell_type": "markdown",
      "metadata": {
        "id": "T08yY0netSmW"
      },
      "source": [
        "Importing all required libraries"
      ]
    },
    {
      "cell_type": "code",
      "metadata": {
        "id": "kGDa-5A3jrWY"
      },
      "source": [
        "import numpy as np\n",
        "import matplotlib.pyplot as plt\n",
        "import pandas as pd\n",
        "from keras.models import Sequential\n",
        "from keras.layers import Dense,LSTM,Dropout\n",
        "from sklearn.preprocessing import MinMaxScaler"
      ],
      "execution_count": 1,
      "outputs": []
    },
    {
      "cell_type": "markdown",
      "metadata": {
        "id": "AcDFCOGDtO07"
      },
      "source": [
        "Importing the data"
      ]
    },
    {
      "cell_type": "code",
      "metadata": {
        "colab": {
          "base_uri": "https://localhost:8080/",
          "height": 415
        },
        "id": "WhBHV1xaj2C7",
        "outputId": "7cf1b509-9865-45d6-a8a1-852cfe6faeb5"
      },
      "source": [
        "apple_training_complete = pd.read_csv(r'/content/traindata.csv')\n",
        "apple_testing_complete"
      ],
      "execution_count": 70,
      "outputs": [
        {
          "output_type": "execute_result",
          "data": {
            "text/html": [
              "<div>\n",
              "<style scoped>\n",
              "    .dataframe tbody tr th:only-of-type {\n",
              "        vertical-align: middle;\n",
              "    }\n",
              "\n",
              "    .dataframe tbody tr th {\n",
              "        vertical-align: top;\n",
              "    }\n",
              "\n",
              "    .dataframe thead th {\n",
              "        text-align: right;\n",
              "    }\n",
              "</style>\n",
              "<table border=\"1\" class=\"dataframe\">\n",
              "  <thead>\n",
              "    <tr style=\"text-align: right;\">\n",
              "      <th></th>\n",
              "      <th>Date</th>\n",
              "      <th>Open</th>\n",
              "      <th>High</th>\n",
              "      <th>Low</th>\n",
              "      <th>Close</th>\n",
              "      <th>Adj Close</th>\n",
              "      <th>Volume</th>\n",
              "    </tr>\n",
              "  </thead>\n",
              "  <tbody>\n",
              "    <tr>\n",
              "      <th>0</th>\n",
              "      <td>11/25/2020</td>\n",
              "      <td>115.550003</td>\n",
              "      <td>116.750000</td>\n",
              "      <td>115.169998</td>\n",
              "      <td>116.029999</td>\n",
              "      <td>115.856873</td>\n",
              "      <td>76499200</td>\n",
              "    </tr>\n",
              "    <tr>\n",
              "      <th>1</th>\n",
              "      <td>11/27/2020</td>\n",
              "      <td>116.570000</td>\n",
              "      <td>117.489998</td>\n",
              "      <td>116.220001</td>\n",
              "      <td>116.589996</td>\n",
              "      <td>116.416031</td>\n",
              "      <td>46691300</td>\n",
              "    </tr>\n",
              "    <tr>\n",
              "      <th>2</th>\n",
              "      <td>11/30/2020</td>\n",
              "      <td>116.970001</td>\n",
              "      <td>120.970001</td>\n",
              "      <td>116.809998</td>\n",
              "      <td>119.050003</td>\n",
              "      <td>118.872368</td>\n",
              "      <td>169410200</td>\n",
              "    </tr>\n",
              "    <tr>\n",
              "      <th>3</th>\n",
              "      <td>12/1/2020</td>\n",
              "      <td>121.010002</td>\n",
              "      <td>123.470001</td>\n",
              "      <td>120.010002</td>\n",
              "      <td>122.720001</td>\n",
              "      <td>122.536896</td>\n",
              "      <td>128166800</td>\n",
              "    </tr>\n",
              "    <tr>\n",
              "      <th>4</th>\n",
              "      <td>12/2/2020</td>\n",
              "      <td>122.019997</td>\n",
              "      <td>123.370003</td>\n",
              "      <td>120.889999</td>\n",
              "      <td>123.080002</td>\n",
              "      <td>122.896355</td>\n",
              "      <td>89004200</td>\n",
              "    </tr>\n",
              "    <tr>\n",
              "      <th>...</th>\n",
              "      <td>...</td>\n",
              "      <td>...</td>\n",
              "      <td>...</td>\n",
              "      <td>...</td>\n",
              "      <td>...</td>\n",
              "      <td>...</td>\n",
              "      <td>...</td>\n",
              "    </tr>\n",
              "    <tr>\n",
              "      <th>98</th>\n",
              "      <td>4/20/2021</td>\n",
              "      <td>135.020004</td>\n",
              "      <td>135.529999</td>\n",
              "      <td>131.809998</td>\n",
              "      <td>133.110001</td>\n",
              "      <td>133.110001</td>\n",
              "      <td>94812300</td>\n",
              "    </tr>\n",
              "    <tr>\n",
              "      <th>99</th>\n",
              "      <td>4/21/2021</td>\n",
              "      <td>132.360001</td>\n",
              "      <td>133.750000</td>\n",
              "      <td>131.300003</td>\n",
              "      <td>133.500000</td>\n",
              "      <td>133.500000</td>\n",
              "      <td>68847100</td>\n",
              "    </tr>\n",
              "    <tr>\n",
              "      <th>100</th>\n",
              "      <td>4/22/2021</td>\n",
              "      <td>133.039993</td>\n",
              "      <td>134.149994</td>\n",
              "      <td>131.410004</td>\n",
              "      <td>131.940002</td>\n",
              "      <td>131.940002</td>\n",
              "      <td>84566500</td>\n",
              "    </tr>\n",
              "    <tr>\n",
              "      <th>101</th>\n",
              "      <td>4/23/2021</td>\n",
              "      <td>132.160004</td>\n",
              "      <td>135.119995</td>\n",
              "      <td>132.160004</td>\n",
              "      <td>134.320007</td>\n",
              "      <td>134.320007</td>\n",
              "      <td>78657500</td>\n",
              "    </tr>\n",
              "    <tr>\n",
              "      <th>102</th>\n",
              "      <td>4/26/2021</td>\n",
              "      <td>134.830002</td>\n",
              "      <td>135.059998</td>\n",
              "      <td>133.559998</td>\n",
              "      <td>134.720001</td>\n",
              "      <td>134.720001</td>\n",
              "      <td>66684300</td>\n",
              "    </tr>\n",
              "  </tbody>\n",
              "</table>\n",
              "<p>103 rows × 7 columns</p>\n",
              "</div>"
            ],
            "text/plain": [
              "           Date        Open        High  ...       Close   Adj Close     Volume\n",
              "0    11/25/2020  115.550003  116.750000  ...  116.029999  115.856873   76499200\n",
              "1    11/27/2020  116.570000  117.489998  ...  116.589996  116.416031   46691300\n",
              "2    11/30/2020  116.970001  120.970001  ...  119.050003  118.872368  169410200\n",
              "3     12/1/2020  121.010002  123.470001  ...  122.720001  122.536896  128166800\n",
              "4     12/2/2020  122.019997  123.370003  ...  123.080002  122.896355   89004200\n",
              "..          ...         ...         ...  ...         ...         ...        ...\n",
              "98    4/20/2021  135.020004  135.529999  ...  133.110001  133.110001   94812300\n",
              "99    4/21/2021  132.360001  133.750000  ...  133.500000  133.500000   68847100\n",
              "100   4/22/2021  133.039993  134.149994  ...  131.940002  131.940002   84566500\n",
              "101   4/23/2021  132.160004  135.119995  ...  134.320007  134.320007   78657500\n",
              "102   4/26/2021  134.830002  135.059998  ...  134.720001  134.720001   66684300\n",
              "\n",
              "[103 rows x 7 columns]"
            ]
          },
          "metadata": {
            "tags": []
          },
          "execution_count": 70
        }
      ]
    },
    {
      "cell_type": "markdown",
      "metadata": {
        "id": "RtOhA0UmuSpk"
      },
      "source": [
        "As we deal with only opening price of the stock.we will filter all data from training set and have values only from open column"
      ]
    },
    {
      "cell_type": "code",
      "metadata": {
        "id": "H5zD8HM_j9UQ"
      },
      "source": [
        "apple_training_processed = apple_training_complete.iloc[:, 1:2].values"
      ],
      "execution_count": 20,
      "outputs": []
    },
    {
      "cell_type": "markdown",
      "metadata": {
        "id": "-BNt80Teu2AV"
      },
      "source": [
        "Data Normalization"
      ]
    },
    {
      "cell_type": "code",
      "metadata": {
        "id": "bRP5wAh3kEdK"
      },
      "source": [
        "scaler = MinMaxScaler(feature_range = (0, 1))\n",
        "\n",
        "apple_training_scaled = scaler.fit_transform(apple_training_processed)"
      ],
      "execution_count": 21,
      "outputs": []
    },
    {
      "cell_type": "markdown",
      "metadata": {
        "id": "HW37fb8AvSD8"
      },
      "source": [
        "Converting train data to right shape.\n",
        "In this predict the opening stock price of the data based on the opening stock prices for the past 30 days."
      ]
    },
    {
      "cell_type": "code",
      "metadata": {
        "id": "doPTel5EkF8X"
      },
      "source": [
        "features_set = []\n",
        "labels = []\n",
        "for i in range(30, 149):\n",
        "    features_set.append(apple_training_scaled[i-30:i, 0])\n",
        "    labels.append(apple_training_scaled[i, 0])"
      ],
      "execution_count": 55,
      "outputs": []
    },
    {
      "cell_type": "code",
      "metadata": {
        "id": "CUMtJVtNkcNI"
      },
      "source": [
        "features_set, labels = np.array(features_set), np.array(labels)\n",
        "features_set = np.reshape(features_set, (features_set.shape[0], features_set.shape[1], 1))"
      ],
      "execution_count": 56,
      "outputs": []
    },
    {
      "cell_type": "markdown",
      "metadata": {
        "id": "o19Xq2TLv55O"
      },
      "source": [
        "**Training the Lstm**\n",
        "\n",
        "In this step Lstm and dropout layers are created."
      ]
    },
    {
      "cell_type": "code",
      "metadata": {
        "id": "QqokEAQqkpU3"
      },
      "source": [
        "model = Sequential()\n",
        "model.add(LSTM(units=50, return_sequences=True, input_shape=(features_set.shape[1], 1)))\n",
        "model.add(Dropout(0.2))\n",
        "model.add(LSTM(units=50, return_sequences=True))\n",
        "model.add(Dropout(0.2))\n",
        "\n",
        "model.add(LSTM(units=50, return_sequences=True))\n",
        "model.add(Dropout(0.2))\n",
        "\n",
        "model.add(LSTM(units=50))\n",
        "model.add(Dropout(0.2))\n",
        "model.add(Dense(units = 1))"
      ],
      "execution_count": 58,
      "outputs": []
    },
    {
      "cell_type": "markdown",
      "metadata": {
        "id": "56fQnwc3wZ-t"
      },
      "source": [
        "We compile the model now"
      ]
    },
    {
      "cell_type": "code",
      "metadata": {
        "id": "bbBV9-fUk90l"
      },
      "source": [
        "model.compile(optimizer = 'adam', loss = 'mean_squared_error')"
      ],
      "execution_count": 59,
      "outputs": []
    },
    {
      "cell_type": "markdown",
      "metadata": {
        "id": "me7fEz5DwbtD"
      },
      "source": [
        "Now we'll fit the model and let it train"
      ]
    },
    {
      "cell_type": "code",
      "metadata": {
        "colab": {
          "base_uri": "https://localhost:8080/"
        },
        "id": "KTIsgKydlB_V",
        "outputId": "eb1aabc5-0b05-4b74-e983-8c87f0f1fee5"
      },
      "source": [
        "model.fit(features_set, labels, epochs = 50, batch_size = 32)"
      ],
      "execution_count": 60,
      "outputs": [
        {
          "output_type": "stream",
          "text": [
            "Epoch 1/50\n",
            "4/4 [==============================] - 7s 64ms/step - loss: 0.2993\n",
            "Epoch 2/50\n",
            "4/4 [==============================] - 0s 57ms/step - loss: 0.0524\n",
            "Epoch 3/50\n",
            "4/4 [==============================] - 0s 61ms/step - loss: 0.0395\n",
            "Epoch 4/50\n",
            "4/4 [==============================] - 0s 69ms/step - loss: 0.0342\n",
            "Epoch 5/50\n",
            "4/4 [==============================] - 0s 68ms/step - loss: 0.0231\n",
            "Epoch 6/50\n",
            "4/4 [==============================] - 0s 66ms/step - loss: 0.0210\n",
            "Epoch 7/50\n",
            "4/4 [==============================] - 0s 59ms/step - loss: 0.0246\n",
            "Epoch 8/50\n",
            "4/4 [==============================] - 0s 64ms/step - loss: 0.0175\n",
            "Epoch 9/50\n",
            "4/4 [==============================] - 0s 61ms/step - loss: 0.0167\n",
            "Epoch 10/50\n",
            "4/4 [==============================] - 0s 60ms/step - loss: 0.0154\n",
            "Epoch 11/50\n",
            "4/4 [==============================] - 0s 60ms/step - loss: 0.0141\n",
            "Epoch 12/50\n",
            "4/4 [==============================] - 0s 61ms/step - loss: 0.0140\n",
            "Epoch 13/50\n",
            "4/4 [==============================] - 0s 63ms/step - loss: 0.0150\n",
            "Epoch 14/50\n",
            "4/4 [==============================] - 0s 61ms/step - loss: 0.0183\n",
            "Epoch 15/50\n",
            "4/4 [==============================] - 0s 61ms/step - loss: 0.0161\n",
            "Epoch 16/50\n",
            "4/4 [==============================] - 0s 63ms/step - loss: 0.0129\n",
            "Epoch 17/50\n",
            "4/4 [==============================] - 0s 62ms/step - loss: 0.0128\n",
            "Epoch 18/50\n",
            "4/4 [==============================] - 0s 62ms/step - loss: 0.0152\n",
            "Epoch 19/50\n",
            "4/4 [==============================] - 0s 59ms/step - loss: 0.0132\n",
            "Epoch 20/50\n",
            "4/4 [==============================] - 0s 64ms/step - loss: 0.0128\n",
            "Epoch 21/50\n",
            "4/4 [==============================] - 0s 62ms/step - loss: 0.0147\n",
            "Epoch 22/50\n",
            "4/4 [==============================] - 0s 63ms/step - loss: 0.0149\n",
            "Epoch 23/50\n",
            "4/4 [==============================] - 0s 60ms/step - loss: 0.0123\n",
            "Epoch 24/50\n",
            "4/4 [==============================] - 0s 61ms/step - loss: 0.0123\n",
            "Epoch 25/50\n",
            "4/4 [==============================] - 0s 62ms/step - loss: 0.0125\n",
            "Epoch 26/50\n",
            "4/4 [==============================] - 0s 59ms/step - loss: 0.0114\n",
            "Epoch 27/50\n",
            "4/4 [==============================] - 0s 59ms/step - loss: 0.0123\n",
            "Epoch 28/50\n",
            "4/4 [==============================] - 0s 64ms/step - loss: 0.0121\n",
            "Epoch 29/50\n",
            "4/4 [==============================] - 0s 63ms/step - loss: 0.0118\n",
            "Epoch 30/50\n",
            "4/4 [==============================] - 0s 62ms/step - loss: 0.0129\n",
            "Epoch 31/50\n",
            "4/4 [==============================] - 0s 65ms/step - loss: 0.0134\n",
            "Epoch 32/50\n",
            "4/4 [==============================] - 0s 64ms/step - loss: 0.0124\n",
            "Epoch 33/50\n",
            "4/4 [==============================] - 0s 60ms/step - loss: 0.0156\n",
            "Epoch 34/50\n",
            "4/4 [==============================] - 0s 59ms/step - loss: 0.0102\n",
            "Epoch 35/50\n",
            "4/4 [==============================] - 0s 64ms/step - loss: 0.0132\n",
            "Epoch 36/50\n",
            "4/4 [==============================] - 0s 61ms/step - loss: 0.0145\n",
            "Epoch 37/50\n",
            "4/4 [==============================] - 0s 64ms/step - loss: 0.0142\n",
            "Epoch 38/50\n",
            "4/4 [==============================] - 0s 61ms/step - loss: 0.0133\n",
            "Epoch 39/50\n",
            "4/4 [==============================] - 0s 60ms/step - loss: 0.0125\n",
            "Epoch 40/50\n",
            "4/4 [==============================] - 0s 61ms/step - loss: 0.0108\n",
            "Epoch 41/50\n",
            "4/4 [==============================] - 0s 62ms/step - loss: 0.0147\n",
            "Epoch 42/50\n",
            "4/4 [==============================] - 0s 58ms/step - loss: 0.0151\n",
            "Epoch 43/50\n",
            "4/4 [==============================] - 0s 63ms/step - loss: 0.0130\n",
            "Epoch 44/50\n",
            "4/4 [==============================] - 0s 67ms/step - loss: 0.0082\n",
            "Epoch 45/50\n",
            "4/4 [==============================] - 0s 64ms/step - loss: 0.0139\n",
            "Epoch 46/50\n",
            "4/4 [==============================] - 0s 63ms/step - loss: 0.0130\n",
            "Epoch 47/50\n",
            "4/4 [==============================] - 0s 63ms/step - loss: 0.0107\n",
            "Epoch 48/50\n",
            "4/4 [==============================] - 0s 63ms/step - loss: 0.0138\n",
            "Epoch 49/50\n",
            "4/4 [==============================] - 0s 62ms/step - loss: 0.0096\n",
            "Epoch 50/50\n",
            "4/4 [==============================] - 0s 57ms/step - loss: 0.0117\n"
          ],
          "name": "stdout"
        },
        {
          "output_type": "execute_result",
          "data": {
            "text/plain": [
              "<tensorflow.python.keras.callbacks.History at 0x7f20c592e410>"
            ]
          },
          "metadata": {
            "tags": []
          },
          "execution_count": 60
        }
      ]
    },
    {
      "cell_type": "markdown",
      "metadata": {
        "id": "UibYjWxbwjMR"
      },
      "source": [
        "Importing test data"
      ]
    },
    {
      "cell_type": "code",
      "metadata": {
        "id": "SKF0DwHglIFB"
      },
      "source": [
        "apple_testing_complete = pd.read_csv(r'/content/testdata.csv')\n",
        "apple_testing_processed = apple_testing_complete.iloc[:, 1:2].values"
      ],
      "execution_count": 61,
      "outputs": []
    },
    {
      "cell_type": "markdown",
      "metadata": {
        "id": "LyO4bbQLwpGE"
      },
      "source": [
        "Concatinating the train and test data"
      ]
    },
    {
      "cell_type": "code",
      "metadata": {
        "id": "16A8DICrlOWM"
      },
      "source": [
        "apple_total = pd.concat((apple_training_complete['Open'], apple_testing_complete['Open']), axis=0)"
      ],
      "execution_count": 62,
      "outputs": []
    },
    {
      "cell_type": "markdown",
      "metadata": {
        "id": "-FeC4g7LxNaV"
      },
      "source": [
        "The input for each day should contain the opening stock prices for the previous 30 days. That means we need opening stock prices for the 20 test days and the 30 stock prices from the last 30 days for the training set."
      ]
    },
    {
      "cell_type": "code",
      "metadata": {
        "id": "Eb9brE3IlThg"
      },
      "source": [
        "test_inputs = apple_total[len(apple_total) - len(apple_testing_complete) - 30:].values"
      ],
      "execution_count": 64,
      "outputs": []
    },
    {
      "cell_type": "code",
      "metadata": {
        "id": "mmxkxABtlYpC"
      },
      "source": [
        "test_inputs = test_inputs.reshape(-1,1)\n",
        "test_inputs = scaler.transform(test_inputs)"
      ],
      "execution_count": 65,
      "outputs": []
    },
    {
      "cell_type": "markdown",
      "metadata": {
        "id": "heCw9b-ayAIM"
      },
      "source": [
        "let's prepare our final test input set that will contain previous 30 stock prices"
      ]
    },
    {
      "cell_type": "code",
      "metadata": {
        "id": "v0dZrFl-lcu5"
      },
      "source": [
        "test_features = []\n",
        "for i in range(30, 50):\n",
        "    test_features.append(test_inputs[i-30:i, 0])"
      ],
      "execution_count": 66,
      "outputs": []
    },
    {
      "cell_type": "markdown",
      "metadata": {
        "id": "5DV6tFacyISW"
      },
      "source": [
        "Finally, we need to convert our data into the three-dimensional format which can be used as input to the LSTM. "
      ]
    },
    {
      "cell_type": "code",
      "metadata": {
        "id": "8109vlRSlgRl"
      },
      "source": [
        "test_features = np.array(test_features)\n",
        "test_features = np.reshape(test_features, (test_features.shape[0], test_features.shape[1], 1))"
      ],
      "execution_count": 67,
      "outputs": []
    },
    {
      "cell_type": "markdown",
      "metadata": {
        "id": "QAa4ut18yU6u"
      },
      "source": [
        "Making Predictions"
      ]
    },
    {
      "cell_type": "code",
      "metadata": {
        "id": "Aj9BhxralkP8"
      },
      "source": [
        "predictions = model.predict(test_features)\n",
        "predictions = scaler.inverse_transform(predictions)"
      ],
      "execution_count": 68,
      "outputs": []
    },
    {
      "cell_type": "code",
      "metadata": {
        "colab": {
          "base_uri": "https://localhost:8080/",
          "height": 404
        },
        "id": "QDnHaB16lrJj",
        "outputId": "abc26cc1-e811-46f6-f2b6-f0313c07d43b"
      },
      "source": [
        "plt.figure(figsize=(10,6))\n",
        "plt.plot(apple_testing_processed, color='blue', label='Actual Apple Stock Price')\n",
        "plt.plot(predictions , color='red', label='Predicted Apple Stock Price')\n",
        "plt.title('Apple Stock Price Prediction')\n",
        "plt.xlabel('Date')\n",
        "plt.ylabel('Apple Stock Price')\n",
        "plt.legend()\n",
        "plt.show()"
      ],
      "execution_count": 69,
      "outputs": [
        {
          "output_type": "display_data",
          "data": {
            "image/png": "[encoded data removed]",
            "text/plain": [
              "<Figure size 720x432 with 1 Axes>"
            ]
          },
          "metadata": {
            "tags": [],
            "needs_background": "light"
          }
        }
      ]
    }
  ]
}